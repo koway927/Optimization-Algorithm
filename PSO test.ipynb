{
 "cells": [
  {
   "cell_type": "code",
   "execution_count": 68,
   "metadata": {},
   "outputs": [
    {
     "name": "stdout",
     "output_type": "stream",
     "text": [
      "Best solution found: \n",
      "X = [6.75220419e-07 1.76711118e-07]\n",
      "F = [9.66480229e-11]\n",
      "GD 6.979609109362503e-07\n",
      "IGD 6.979609109362503e-07\n"
     ]
    }
   ],
   "source": [
    "\n",
    "from pymoo.algorithms.soo.nonconvex.pso import PSO\n",
    "from pymoo.problems.single import Rastrigin\n",
    "from pymoo.optimize import minimize\n",
    "from pymoo.indicators.gd import GD\n",
    "from pymoo.indicators.igd import IGD\n",
    "\n",
    "problem = get_problem(\"Rastrigin\")\n",
    "\n",
    "algorithm = PSO()\n",
    "\n",
    "res = minimize(problem,\n",
    "               algorithm,\n",
    "               seed=1,\n",
    "               verbose=False)\n",
    "\n",
    "print(\"Best solution found: \\nX = %s\\nF = %s\" % (res.X, res.F))\n",
    "\n",
    "pf = get_problem(\"Rastrigin\").pareto_front()\n",
    "\n",
    "ind = GD(pf)\n",
    "print(\"GD\", ind(res.X))\n",
    "\n",
    "ind2 = IGD(pf)\n",
    "print(\"IGD\", ind2(res.X))"
   ]
  },
  {
   "cell_type": "code",
   "execution_count": 70,
   "metadata": {},
   "outputs": [
    {
     "name": "stdout",
     "output_type": "stream",
     "text": [
      "Best solution found: \n",
      "X = [-0.0017443   0.00046954]\n",
      "F = [0.00064736]\n",
      "GD 0.0018063910168840361\n",
      "IGD 0.0018063910168840361\n"
     ]
    }
   ],
   "source": [
    "from pymoo.algorithms.soo.nonconvex.ga import GA\n",
    "from pymoo.problems import get_problem\n",
    "from pymoo.optimize import minimize\n",
    "\n",
    "problem = get_problem(\"Rastrigin\")\n",
    "\n",
    "algorithm = GA(\n",
    "    pop_size=9000,\n",
    "    eliminate_duplicates=True)\n",
    "\n",
    "res = minimize(problem,\n",
    "               algorithm,\n",
    "               seed=1,\n",
    "               verbose=False)\n",
    "\n",
    "print(\"Best solution found: \\nX = %s\\nF = %s\" % (res.X, res.F))\n",
    "pf = get_problem(\"Rastrigin\").pareto_front()\n",
    "\n",
    "ind = GD(pf)\n",
    "print(\"GD\", ind(res.X))\n",
    "\n",
    "ind2 = IGD(pf)\n",
    "print(\"IGD\", ind2(res.X))"
   ]
  },
  {
   "cell_type": "code",
   "execution_count": 69,
   "metadata": {},
   "outputs": [
    {
     "name": "stdout",
     "output_type": "stream",
     "text": [
      "UNSGA3: Best solution found: \n",
      "X = [-6.38345175e-06 -1.12349942e-05]\n",
      "F = [3.31262271e-08]\n",
      "GD 1.2921824565198275e-05\n",
      "IGD 1.2921824565198275e-05\n"
     ]
    }
   ],
   "source": [
    "import numpy as np\n",
    "\n",
    "from pymoo.algorithms.moo.nsga3 import NSGA3\n",
    "from pymoo.algorithms.moo.unsga3 import UNSGA3\n",
    "from pymoo.problems import get_problem\n",
    "from pymoo.optimize import minimize\n",
    "\n",
    "problem = get_problem(\"Rastrigin\")\n",
    "\n",
    "# create the reference directions to be used for the optimization - just a single one here\n",
    "ref_dirs = np.array([[1.0]])\n",
    "\n",
    "# create the algorithm object\n",
    "algorithm = UNSGA3(ref_dirs, pop_size=100)\n",
    "\n",
    "# execute the optimization\n",
    "res = minimize(problem,\n",
    "               algorithm,\n",
    "               termination=('n_gen', 150),\n",
    "               save_history=True,\n",
    "               seed=1)\n",
    "\n",
    "print(\"UNSGA3: Best solution found: \\nX = %s\\nF = %s\" % (res.X, res.F))\n",
    "pf = get_problem(\"Rastrigin\").pareto_front()\n",
    "\n",
    "ind = GD(pf)\n",
    "print(\"GD\", ind(res.X))\n",
    "\n",
    "ind2 = IGD(pf)\n",
    "print(\"IGD\", ind2(res.X))"
   ]
  },
  {
   "cell_type": "code",
   "execution_count": null,
   "metadata": {},
   "outputs": [],
   "source": []
  },
  {
   "cell_type": "code",
   "execution_count": null,
   "metadata": {},
   "outputs": [],
   "source": []
  }
 ],
 "metadata": {
  "kernelspec": {
   "display_name": "Python 3",
   "language": "python",
   "name": "python3"
  },
  "language_info": {
   "codemirror_mode": {
    "name": "ipython",
    "version": 3
   },
   "file_extension": ".py",
   "mimetype": "text/x-python",
   "name": "python",
   "nbconvert_exporter": "python",
   "pygments_lexer": "ipython3",
   "version": "3.7.9"
  },
  "orig_nbformat": 4
 },
 "nbformat": 4,
 "nbformat_minor": 2
}
