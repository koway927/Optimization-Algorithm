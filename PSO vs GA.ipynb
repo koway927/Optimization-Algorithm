{
 "cells": [
  {
   "cell_type": "code",
   "execution_count": 4,
   "metadata": {},
   "outputs": [],
   "source": [
    "from pymoo.problems import get_problem\n",
    "from pymoo.optimize import minimize\n",
    "from pymoo.indicators.gd import GD\n",
    "from pymoo.indicators.igd import IGD\n",
    "import matplotlib.pyplot as plt\n",
    "import numpy as np\n",
    "from pymoo.algorithms.soo.nonconvex.pso import PSO\n",
    "from pymoo.algorithms.soo.nonconvex.ga import GA\n",
    "from pymoo.termination import get_termination\n",
    "from random import randint\n",
    "from pymoo.termination.ftol import SingleObjectiveSpaceTermination\n",
    "from pymoo.termination.robust import RobustTermination\n",
    "from pymoo.termination.default import DefaultMultiObjectiveTermination\n"
   ]
  },
  {
   "cell_type": "code",
   "execution_count": 2,
   "metadata": {},
   "outputs": [],
   "source": [
    "class tester():\n",
    "    algorithm1_win_execution_time = 0\n",
    "    algorithm1_win_convergence = 0\n",
    "    algorithm2_win_execution_time = 0\n",
    "    algorithm2_win_convergence = 0\n",
    "    \n",
    "    def __init__(self, algo1, algo2, problem):\n",
    "        self.algo1 = algo1\n",
    "        self.algo2 = algo2\n",
    "        self.problem = problem\n",
    "        self.res1_list = []\n",
    "        self.res2_list = []\n",
    "        self.res1_exec_time_list = []\n",
    "        self.res2_exec_time_list = []\n",
    "        self.res1_gd_list = []\n",
    "        self.res2_gd_list = []\n",
    "\n",
    "    def execute(self):\n",
    "        pf = self.problem.pareto_front()\n",
    "        ind = GD(pf)\n",
    "\n",
    "        for i in range(1,11):\n",
    "            res1 = minimize(self.problem,\n",
    "                self.algo1,\n",
    "                termination = DefaultMultiObjectiveTermination(xtol=1e-32,\n",
    "                                                               cvtol=1e-32,\n",
    "                                                               ftol=1e-6,\n",
    "                                                               period=20,\n",
    "                                                               n_max_gen=300000,\n",
    "                                                               n_max_evals=100000\n",
    "                                                            ),\n",
    "                save_history=True,\n",
    "                seed = i,\n",
    "                verbose=False)\n",
    "            \n",
    "            res2 = minimize(self.problem,\n",
    "                self.algo2,\n",
    "                termination = DefaultMultiObjectiveTermination(xtol=1e-32,\n",
    "                                                               cvtol=1e-32,\n",
    "                                                               ftol=1e-6,\n",
    "                                                               period=20,\n",
    "                                                               n_max_gen=300000,\n",
    "                                                               n_max_evals=100000\n",
    "                                                            ),\n",
    "                save_history=True,\n",
    "                seed = i,\n",
    "                verbose=False)\n",
    "            \n",
    "            self.res1_list.append(res1)\n",
    "            self.res2_list.append(res2)\n",
    "            self.res1_exec_time_list.append(res1.exec_time)\n",
    "            self.res2_exec_time_list.append(res2.exec_time)\n",
    "\n",
    "            res1_b = minimize(self.problem,\n",
    "                self.algo1,\n",
    "                termination = get_termination(\"n_eval\", 50000),\n",
    "                save_history=True,\n",
    "                seed = i,\n",
    "                verbose=False)\n",
    "            \n",
    "            res2_b = minimize(self.problem,\n",
    "                self.algo2,\n",
    "                termination = get_termination(\"n_eval\", 50000),\n",
    "                save_history=True,\n",
    "                seed = i,\n",
    "\n",
    "                verbose=False)\n",
    "            if res1_b.F is None:\n",
    "                self.res1_gd_list.append(None)\n",
    "            else:\n",
    "                self.res1_gd_list.append(ind(res1_b.F))\n",
    "            if res2_b.F is None:\n",
    "                self.res2_gd_list.append(None)\n",
    "            else:\n",
    "                self.res2_gd_list.append(ind(res2_b.F))\n",
    "        \n",
    "        #print(\"Best solution found by algorithm 1: \\nX = %s\\nOptimum found = %s\\nCV = %s\" % (res1.X, res1.F, res1.CV))\n",
    "        #print(\"Best solution found by algorithm 2: \\nX = %s\\nOptimum found = %s\\nCV = %s \\n\" % (res2.X, res2.F, res2.CV))\n",
    "        \n",
    "        algo1_avg_execute_time = sum(self.res1_exec_time_list) / len(self.res1_exec_time_list)\n",
    "        algo2_avg_execute_time = sum(self.res2_exec_time_list) / len(self.res2_exec_time_list)\n",
    "        algo1_execute_time_std = np.std(np.array(self.res1_exec_time_list))\n",
    "        algo2_execute_time_std = np.std(np.array(self.res2_exec_time_list))\n",
    "        \n",
    "        \n",
    "       \n",
    "        \n",
    "       \n",
    "        \n",
    "        print('Average execution time of algorithm 1:', algo1_avg_execute_time)\n",
    "        print('Average execution time of algorithm 2:', algo2_avg_execute_time,'\\n')\n",
    "\n",
    "        print('Shortest execution time of algorithm 1:', min(self.res1_exec_time_list))\n",
    "        print('Shortest execution time of algorithm 2:', min(self.res2_exec_time_list),'\\n')\n",
    "        \n",
    "        print('Standard deviation of execution time of algorithm 1:', algo1_execute_time_std)\n",
    "        print('Standard deviation of execution time of algorithm 2:', algo2_execute_time_std,'\\n')\n",
    "        \n",
    "        if algo1_avg_execute_time < algo2_avg_execute_time:\n",
    "            tester.algorithm1_win_execution_time += 1\n",
    "            print(\"Algorithm 1 has shorter average execution time\\n\")\n",
    "        else:\n",
    "            tester.algorithm2_win_execution_time += 1\n",
    "            print(\"Algorithm 2 has shorter average execution time\\n\")\n",
    "\n",
    "        if None in self.res1_gd_list:\n",
    "            print(\"No feasible solution found by algorithm 1\")\n",
    "        else:\n",
    "            algo1_avg_gd = sum(self.res1_gd_list) / len(self.res1_gd_list)\n",
    "            print(\"Avereage generational distance of algorithm 1:\", algo1_avg_gd)\n",
    "            print('Smallest generational distance of algorithm 1:', min(self.res1_gd_list))\n",
    "            algo1_gd_std = np.std(np.array(self.res1_gd_list))\n",
    "            print('Standard deviation of generational distance of algorithm 1:', algo1_gd_std,\"\\n\")          \n",
    "            if None in self.res2_list:\n",
    "                tester.algorithm1_win_convergence += 1\n",
    "        \n",
    "        if None in self.res2_gd_list:\n",
    "            print(\"No feasible solution found by algorithm 2\")\n",
    "        else:\n",
    "            algo2_avg_gd = sum(self.res2_gd_list) / len(self.res2_gd_list)\n",
    "            print(\"Avereage generational distance of algorithm 2:\", algo2_avg_gd)\n",
    "            print('Smallest generational distance of algorithm 2:', min(self.res2_gd_list))\n",
    "            algo2_gd_std = np.std(np.array(self.res2_gd_list))\n",
    "            print('Standard deviation of generational distance of algorithm 2:', algo2_gd_std,\"\\n\")\n",
    "            if None in self.res1_gd_list:\n",
    "                tester.algorithm2_win_convergence += 1\n",
    "\n",
    "        if not (None in self.res1_gd_list or None in self.res2_gd_list):\n",
    "            if algo1_avg_gd < algo2_avg_gd:\n",
    "                print(\"Algorithm 1 has a better approximation to the global optimum on average\\n\")\n",
    "                tester.algorithm1_win_convergence += 1\n",
    "            else:\n",
    "                print(\"Algorithm 2 has a better approximation to the global optimum on average\\n\")\n",
    "                tester.algorithm2_win_convergence += 1\n",
    "\n",
    "    def visualize(self,res1,res2):\n",
    "        opt1 = np.array([e.opt[0].F for e in res1.history])\n",
    "        opt2 = np.array([e.opt[0].F for e in res2.history])\n",
    "        pf = self.problem.pareto_front()\n",
    "        n_eval1 = np.arange(len(res1.history))\n",
    "        n_eval2 = np.arange(len(res2.history))\n",
    "        plt.plot(n_eval1, opt1, label=\"Algorithm 1\")\n",
    "        plt.plot(n_eval2, opt2, label=\"Algorithm 2\")\n",
    "        plt.hlines(y=pf[0], xmin=0, xmax=max(n_eval1[-1],n_eval2[-1]), colors='purple', linestyles='--', lw=2)\n",
    "        plt.title(\"Convergence Comparision\")\n",
    "        plt.xlabel(\"Genernation\")\n",
    "        plt.ylabel(\"Optimum in each generation\")\n",
    "        if pf[0] >= 0:\n",
    "            plt.yscale(\"log\")\n",
    "        plt.legend()\n",
    "        plt.show()\n",
    "    \n",
    "    def reset_count():\n",
    "        tester.total_time_comparison = 0\n",
    "        tester.total_convergence_comparison = 0\n",
    "        tester.algorithm1_win_execution_time = 0\n",
    "        tester.algorithm1_win_convergence = 0"
   ]
  },
  {
   "cell_type": "code",
   "execution_count": 3,
   "metadata": {},
   "outputs": [],
   "source": [
    "algorithm1 = PSO()\n",
    "algorithm2 = GA()\n",
    "n_var = 20"
   ]
  },
  {
   "cell_type": "code",
   "execution_count": 4,
   "metadata": {},
   "outputs": [
    {
     "name": "stdout",
     "output_type": "stream",
     "text": [
      "Average execution time of algorithm 1: 3.516765904426575\n",
      "Average execution time of algorithm 2: 6.518073296546936 \n",
      "\n",
      "Shortest execution time of algorithm 1: 0.8055262565612793\n",
      "Shortest execution time of algorithm 2: 4.674077272415161 \n",
      "\n",
      "Standard deviation of execution time of algorithm 1: 1.219018635325539\n",
      "Standard deviation of execution time of algorithm 2: 1.294859286771455 \n",
      "\n",
      "Algorithm 1 has shorter average execution time\n",
      "\n",
      "Avereage generational distance of algorithm 1: 0.002450681111394193\n",
      "Smallest generational distance of algorithm 1: 3.8625547205128896e-11\n",
      "Standard deviation of generational distance of algorithm 1: 0.007352042388805332 \n",
      "\n",
      "Avereage generational distance of algorithm 2: 0.023485849929668224\n",
      "Smallest generational distance of algorithm 2: 0.015702737194818628\n",
      "Standard deviation of generational distance of algorithm 2: 0.005063124906111496 \n",
      "\n",
      "Algorithm 1 has a better approximation to the global optimum on average\n",
      "\n"
     ]
    }
   ],
   "source": [
    "ackley_tester = tester(algorithm1,algorithm2,get_problem(\"ackley\", n_var=n_var, a=20, b=1/5, c=2 * np.pi))\n",
    "ackley_tester.execute()\n",
    "#ackley_tester.visualize()"
   ]
  },
  {
   "cell_type": "code",
   "execution_count": 5,
   "metadata": {},
   "outputs": [
    {
     "name": "stdout",
     "output_type": "stream",
     "text": [
      "Average execution time of algorithm 1: 1.4328692197799682\n",
      "Average execution time of algorithm 2: 6.851402306556702 \n",
      "\n",
      "Shortest execution time of algorithm 1: 0.6346213817596436\n",
      "Shortest execution time of algorithm 2: 4.572067975997925 \n",
      "\n",
      "Standard deviation of execution time of algorithm 1: 0.8687082835072449\n",
      "Standard deviation of execution time of algorithm 2: 1.5861228877138696 \n",
      "\n",
      "Algorithm 1 has shorter average execution time\n",
      "\n",
      "Avereage generational distance of algorithm 1: 0.23367893959177746\n",
      "Smallest generational distance of algorithm 1: 0.0\n",
      "Standard deviation of generational distance of algorithm 1: 0.332257800339647 \n",
      "\n",
      "Avereage generational distance of algorithm 2: 0.02778866028904551\n",
      "Smallest generational distance of algorithm 2: 0.004815624556890441\n",
      "Standard deviation of generational distance of algorithm 2: 0.015464593033517895 \n",
      "\n",
      "Algorithm 2 has a better approximation to the global optimum on average\n",
      "\n"
     ]
    }
   ],
   "source": [
    "griewank_tester = tester(algorithm1,algorithm2,get_problem(\"griewank\", n_var=n_var))\n",
    "griewank_tester.execute()\n",
    "#griewank_tester.visualize()"
   ]
  },
  {
   "cell_type": "code",
   "execution_count": 6,
   "metadata": {},
   "outputs": [
    {
     "name": "stdout",
     "output_type": "stream",
     "text": [
      "Average execution time of algorithm 1: 1.2937275886535644\n",
      "Average execution time of algorithm 2: 6.729350757598877 \n",
      "\n",
      "Shortest execution time of algorithm 1: 0.4212770462036133\n",
      "Shortest execution time of algorithm 2: 4.85626745223999 \n",
      "\n",
      "Standard deviation of execution time of algorithm 1: 1.3515682901537227\n",
      "Standard deviation of execution time of algorithm 2: 1.8370852140120173 \n",
      "\n",
      "Algorithm 1 has shorter average execution time\n",
      "\n",
      "Avereage generational distance of algorithm 1: 10.085512040407488\n",
      "Smallest generational distance of algorithm 1: 0.9949592756015022\n",
      "Standard deviation of generational distance of algorithm 1: 6.145119650498541 \n",
      "\n",
      "Avereage generational distance of algorithm 2: 0.0028129929554467025\n",
      "Smallest generational distance of algorithm 2: 0.0014046170907704436\n",
      "Standard deviation of generational distance of algorithm 2: 0.0011953982288857212 \n",
      "\n",
      "Algorithm 2 has a better approximation to the global optimum on average\n",
      "\n"
     ]
    }
   ],
   "source": [
    "rastrigin_tester = tester(algorithm1,algorithm2,get_problem(\"rastrigin\", n_var=n_var))\n",
    "rastrigin_tester.execute()\n",
    "#rastrigin_tester.visualize()"
   ]
  },
  {
   "cell_type": "code",
   "execution_count": 39,
   "metadata": {},
   "outputs": [
    {
     "name": "stdout",
     "output_type": "stream",
     "text": [
      "Average execution time of algorithm 1: 1.4593555450439453\n",
      "Average execution time of algorithm 2: 55.74319000244141 \n",
      "\n",
      "Shortest execution time of algorithm 1: 0.4886946678161621\n",
      "Shortest execution time of algorithm 2: 9.33597207069397 \n",
      "\n",
      "Standard deviation of execution time of algorithm 1: 0.6745529889432655\n",
      "Standard deviation of execution time of algorithm 2: 130.4290035654955 \n",
      "\n",
      "Algorithm 1 has shorter average execution time\n",
      "\n",
      "Avereage generational distance of algorithm 1: 16.061136483156076\n",
      "Smallest generational distance of algorithm 1: 9.432778620374856\n",
      "Standard deviation of generational distance of algorithm 1: 2.5849653851521444 \n",
      "\n",
      "Avereage generational distance of algorithm 2: 14.885868143448928\n",
      "Smallest generational distance of algorithm 2: 0.18625171880743188\n",
      "Standard deviation of generational distance of algorithm 2: 4.927159402630447 \n",
      "\n",
      "Algorithm 2 has a better approximation to the global optimum on average\n",
      "\n"
     ]
    }
   ],
   "source": [
    "rosenbrock_tester = tester(algorithm1,algorithm2,get_problem(\"rosenbrock\", n_var=n_var))\n",
    "rosenbrock_tester.execute()\n"
   ]
  },
  {
   "cell_type": "code",
   "execution_count": 8,
   "metadata": {},
   "outputs": [
    {
     "name": "stdout",
     "output_type": "stream",
     "text": [
      "Average execution time of algorithm 1: 1.1449408054351806\n",
      "Average execution time of algorithm 2: 24.48371069431305 \n",
      "\n",
      "Shortest execution time of algorithm 1: 0.19353461265563965\n",
      "Shortest execution time of algorithm 2: 0.4206254482269287 \n",
      "\n",
      "Standard deviation of execution time of algorithm 1: 0.7526365451451487\n",
      "Standard deviation of execution time of algorithm 2: 32.8446341670272 \n",
      "\n",
      "Algorithm 1 has shorter average execution time\n",
      "\n",
      "Avereage generational distance of algorithm 1: 0.004156040223900548\n",
      "Smallest generational distance of algorithm 1: 6.125155375838453e-06\n",
      "Standard deviation of generational distance of algorithm 1: 0.00893198662193912 \n",
      "\n",
      "Avereage generational distance of algorithm 2: 1.934818369454462\n",
      "Smallest generational distance of algorithm 2: 0.4675457433472518\n",
      "Standard deviation of generational distance of algorithm 2: 1.046036747088875 \n",
      "\n",
      "Algorithm 1 has a better approximation to the global optimum on average\n",
      "\n"
     ]
    }
   ],
   "source": [
    "zakharov_tester = tester(algorithm1,algorithm2,get_problem(\"zakharov\", n_var=n_var))\n",
    "zakharov_tester.execute()"
   ]
  },
  {
   "cell_type": "code",
   "execution_count": 20,
   "metadata": {},
   "outputs": [
    {
     "name": "stdout",
     "output_type": "stream",
     "text": [
      "Average execution time of algorithm 1: 2.4228418350219725\n",
      "Average execution time of algorithm 2: 2.750700521469116 \n",
      "\n",
      "Shortest execution time of algorithm 1: 1.8715553283691406\n",
      "Shortest execution time of algorithm 2: 2.002570867538452 \n",
      "\n",
      "Standard deviation of execution time of algorithm 1: 0.35107128625033224\n",
      "Standard deviation of execution time of algorithm 2: 0.6494623019248142 \n",
      "\n",
      "Algorithm 1 has shorter average execution time\n",
      "\n",
      "Avereage generational distance of algorithm 1: 1.6328125\n",
      "Smallest generational distance of algorithm 1: 0.0\n",
      "Standard deviation of generational distance of algorithm 1: 1.1073099177313692 \n",
      "\n",
      "Avereage generational distance of algorithm 2: 0.7185409892744946\n",
      "Smallest generational distance of algorithm 2: 0.0006182285939004828\n",
      "Standard deviation of generational distance of algorithm 2: 1.0955781466087653 \n",
      "\n",
      "Algorithm 2 has a better approximation to the global optimum on average\n",
      "\n"
     ]
    }
   ],
   "source": [
    "g01_tester = tester(algorithm1,algorithm2,get_problem(\"g1\"))\n",
    "g01_tester.execute()"
   ]
  },
  {
   "cell_type": "code",
   "execution_count": 10,
   "metadata": {},
   "outputs": [
    {
     "name": "stdout",
     "output_type": "stream",
     "text": [
      "Average execution time of algorithm 1: 1.1755805492401123\n",
      "Average execution time of algorithm 2: 24.721462535858155 \n",
      "\n",
      "Shortest execution time of algorithm 1: 0.7087502479553223\n",
      "Shortest execution time of algorithm 2: 2.5750064849853516 \n",
      "\n",
      "Standard deviation of execution time of algorithm 1: 0.4393951200243119\n",
      "Standard deviation of execution time of algorithm 2: 62.764378247648715 \n",
      "\n",
      "Algorithm 1 has shorter average execution time\n",
      "\n",
      "Avereage generational distance of algorithm 1: 0.3822517509428537\n",
      "Smallest generational distance of algorithm 1: 0.2585376308028928\n",
      "Standard deviation of generational distance of algorithm 1: 0.06860833261830072 \n",
      "\n",
      "Avereage generational distance of algorithm 2: 0.046183436533672295\n",
      "Smallest generational distance of algorithm 2: 0.01615944683827686\n",
      "Standard deviation of generational distance of algorithm 2: 0.02544375290555106 \n",
      "\n",
      "Algorithm 2 has a better approximation to the global optimum on average\n",
      "\n"
     ]
    }
   ],
   "source": [
    "g02_tester = tester(algorithm1,algorithm2,get_problem(\"g2\"))\n",
    "g02_tester.execute()"
   ]
  },
  {
   "cell_type": "code",
   "execution_count": 11,
   "metadata": {},
   "outputs": [
    {
     "name": "stdout",
     "output_type": "stream",
     "text": [
      "Average execution time of algorithm 1: 0.22799651622772216\n",
      "Average execution time of algorithm 2: 1.2367735385894776 \n",
      "\n",
      "Shortest execution time of algorithm 1: 0.10557794570922852\n",
      "Shortest execution time of algorithm 2: 0.38526225090026855 \n",
      "\n",
      "Standard deviation of execution time of algorithm 1: 0.07467251163697966\n",
      "Standard deviation of execution time of algorithm 2: 1.1488271602307618 \n",
      "\n",
      "Algorithm 1 has shorter average execution time\n",
      "\n",
      "Avereage generational distance of algorithm 1: 0.6813953379960478\n",
      "Smallest generational distance of algorithm 1: 0.3317180916601945\n",
      "Standard deviation of generational distance of algorithm 1: 0.22339039263990637 \n",
      "\n",
      "Avereage generational distance of algorithm 2: 0.8310796324287146\n",
      "Smallest generational distance of algorithm 2: 0.4355922132760106\n",
      "Standard deviation of generational distance of algorithm 2: 0.16197823385970975 \n",
      "\n",
      "Algorithm 1 has a better approximation to the global optimum on average\n",
      "\n"
     ]
    }
   ],
   "source": [
    "g03_tester = tester(algorithm1,algorithm2,get_problem(\"g3\"))\n",
    "g03_tester.execute()"
   ]
  },
  {
   "cell_type": "code",
   "execution_count": 12,
   "metadata": {},
   "outputs": [
    {
     "name": "stdout",
     "output_type": "stream",
     "text": [
      "Average execution time of algorithm 1: 1.9795821189880372\n",
      "Average execution time of algorithm 2: 2.294120216369629 \n",
      "\n",
      "Shortest execution time of algorithm 1: 0.7595062255859375\n",
      "Shortest execution time of algorithm 2: 1.5501809120178223 \n",
      "\n",
      "Standard deviation of execution time of algorithm 1: 0.8794335211424706\n",
      "Standard deviation of execution time of algorithm 2: 0.5609648044128299 \n",
      "\n",
      "Algorithm 1 has shorter average execution time\n",
      "\n",
      "Avereage generational distance of algorithm 1: 1.1767406249418854e-08\n",
      "Smallest generational distance of algorithm 1: 0.0\n",
      "Standard deviation of generational distance of algorithm 1: 3.366166393232793e-08 \n",
      "\n",
      "Avereage generational distance of algorithm 2: 6.623707827432009\n",
      "Smallest generational distance of algorithm 2: 1.8393792409733578\n",
      "Standard deviation of generational distance of algorithm 2: 5.172000543257738 \n",
      "\n",
      "Algorithm 1 has a better approximation to the global optimum on average\n",
      "\n"
     ]
    }
   ],
   "source": [
    "g04_tester = tester(algorithm1,algorithm2,get_problem(\"g4\"))\n",
    "g04_tester.execute()"
   ]
  },
  {
   "cell_type": "code",
   "execution_count": 13,
   "metadata": {},
   "outputs": [
    {
     "name": "stdout",
     "output_type": "stream",
     "text": [
      "Average execution time of algorithm 1: 1.1888376474380493\n",
      "Average execution time of algorithm 2: 7.194760322570801 \n",
      "\n",
      "Shortest execution time of algorithm 1: 0.7289042472839355\n",
      "Shortest execution time of algorithm 2: 3.4468305110931396 \n",
      "\n",
      "Standard deviation of execution time of algorithm 1: 0.23816274862269765\n",
      "Standard deviation of execution time of algorithm 2: 3.4585025894943833 \n",
      "\n",
      "Algorithm 1 has shorter average execution time\n",
      "\n",
      "No feasible solution found by algorithm 1\n",
      "No feasible solution found by algorithm 2\n"
     ]
    }
   ],
   "source": [
    "g05_tester = tester(algorithm1,algorithm2,get_problem(\"g5\"))\n",
    "g05_tester.execute()"
   ]
  },
  {
   "cell_type": "code",
   "execution_count": 14,
   "metadata": {},
   "outputs": [
    {
     "name": "stdout",
     "output_type": "stream",
     "text": [
      "Average execution time of algorithm 1: 0.8172484159469604\n",
      "Average execution time of algorithm 2: 8.594055199623108 \n",
      "\n",
      "Shortest execution time of algorithm 1: 0.29013967514038086\n",
      "Shortest execution time of algorithm 2: 0.32143235206604004 \n",
      "\n",
      "Standard deviation of execution time of algorithm 1: 0.5079825741471855\n",
      "Standard deviation of execution time of algorithm 2: 5.6262863677895805 \n",
      "\n",
      "Algorithm 1 has shorter average execution time\n",
      "\n",
      "Avereage generational distance of algorithm 1: 8.144522198563208e-05\n",
      "Smallest generational distance of algorithm 1: 6.6283455453231e-06\n",
      "Standard deviation of generational distance of algorithm 1: 5.9166581527269416e-05 \n",
      "\n",
      "Avereage generational distance of algorithm 2: 68.12099702096802\n",
      "Smallest generational distance of algorithm 2: 11.144215520668695\n",
      "Standard deviation of generational distance of algorithm 2: 45.11648693213286 \n",
      "\n",
      "Algorithm 1 has a better approximation to the global optimum on average\n",
      "\n"
     ]
    }
   ],
   "source": [
    "g06_tester = tester(algorithm1,algorithm2,get_problem(\"g6\"))\n",
    "g06_tester.execute()"
   ]
  },
  {
   "cell_type": "code",
   "execution_count": 15,
   "metadata": {},
   "outputs": [
    {
     "name": "stdout",
     "output_type": "stream",
     "text": [
      "Average execution time of algorithm 1: 1.6937083005905151\n",
      "Average execution time of algorithm 2: 3.3995049238204955 \n",
      "\n",
      "Shortest execution time of algorithm 1: 0.8015167713165283\n",
      "Shortest execution time of algorithm 2: 2.6128644943237305 \n",
      "\n",
      "Standard deviation of execution time of algorithm 1: 0.7863864236597956\n",
      "Standard deviation of execution time of algorithm 2: 0.49997015633495656 \n",
      "\n",
      "Algorithm 1 has shorter average execution time\n",
      "\n",
      "Avereage generational distance of algorithm 1: 1.6195788318522026\n",
      "Smallest generational distance of algorithm 1: 0.19477344050018885\n",
      "Standard deviation of generational distance of algorithm 1: 1.1061958567143713 \n",
      "\n",
      "Avereage generational distance of algorithm 2: 4.393004408234178\n",
      "Smallest generational distance of algorithm 2: 0.13238310311135137\n",
      "Standard deviation of generational distance of algorithm 2: 4.688525718363379 \n",
      "\n",
      "Algorithm 1 has a better approximation to the global optimum on average\n",
      "\n"
     ]
    }
   ],
   "source": [
    "g07_tester = tester(algorithm1,algorithm2,get_problem(\"g7\"))\n",
    "g07_tester.execute()"
   ]
  },
  {
   "cell_type": "code",
   "execution_count": 19,
   "metadata": {},
   "outputs": [
    {
     "name": "stdout",
     "output_type": "stream",
     "text": [
      "Average execution time of algorithm 1: 0.2744955062866211\n",
      "Average execution time of algorithm 2: 0.9821463584899902 \n",
      "\n",
      "Shortest execution time of algorithm 1: 0.18529391288757324\n",
      "Shortest execution time of algorithm 2: 0.6235177516937256 \n",
      "\n",
      "Standard deviation of execution time of algorithm 1: 0.1079031627360842\n",
      "Standard deviation of execution time of algorithm 2: 0.20040055454793085 \n",
      "\n",
      "Algorithm 1 has shorter average execution time\n",
      "\n",
      "Avereage generational distance of algorithm 1: 0.0\n",
      "Smallest generational distance of algorithm 1: 0.0\n",
      "Standard deviation of generational distance of algorithm 1: 0.0 \n",
      "\n",
      "Avereage generational distance of algorithm 2: 2.031717749317874e-08\n",
      "Smallest generational distance of algorithm 2: 8.090750291955828e-15\n",
      "Standard deviation of generational distance of algorithm 2: 5.0177513679734465e-08 \n",
      "\n",
      "Algorithm 1 has a better approximation to the global optimum on average\n",
      "\n"
     ]
    }
   ],
   "source": [
    "g08_tester = tester(algorithm1,algorithm2,get_problem(\"g8\"))\n",
    "g08_tester.execute()"
   ]
  },
  {
   "cell_type": "code",
   "execution_count": 17,
   "metadata": {},
   "outputs": [
    {
     "name": "stdout",
     "output_type": "stream",
     "text": [
      "Average execution time of algorithm 1: 1.1148066997528077\n",
      "Average execution time of algorithm 2: 3.00740909576416 \n",
      "\n",
      "Shortest execution time of algorithm 1: 0.6135697364807129\n",
      "Shortest execution time of algorithm 2: 2.036874771118164 \n",
      "\n",
      "Standard deviation of execution time of algorithm 1: 0.41525142208278043\n",
      "Standard deviation of execution time of algorithm 2: 0.7768074492174499 \n",
      "\n",
      "Algorithm 1 has shorter average execution time\n",
      "\n",
      "Avereage generational distance of algorithm 1: 0.13967687785959698\n",
      "Smallest generational distance of algorithm 1: 0.031653979628231355\n",
      "Standard deviation of generational distance of algorithm 1: 0.0690352047256087 \n",
      "\n",
      "Avereage generational distance of algorithm 2: 0.6728992999855109\n",
      "Smallest generational distance of algorithm 2: 0.20247815732182062\n",
      "Standard deviation of generational distance of algorithm 2: 0.3611122434838477 \n",
      "\n",
      "Algorithm 1 has a better approximation to the global optimum on average\n",
      "\n"
     ]
    }
   ],
   "source": [
    "g09_tester = tester(algorithm1,algorithm2,get_problem(\"g9\"))\n",
    "g09_tester.execute()"
   ]
  },
  {
   "cell_type": "code",
   "execution_count": 18,
   "metadata": {},
   "outputs": [
    {
     "name": "stdout",
     "output_type": "stream",
     "text": [
      "14\n",
      "13\n",
      "1\n",
      "13\n",
      "8\n",
      "5\n"
     ]
    }
   ],
   "source": []
  },
  {
   "cell_type": "code",
   "execution_count": 38,
   "metadata": {},
   "outputs": [
    {
     "name": "stdout",
     "output_type": "stream",
     "text": [
      "[0.]\n",
      "[0.]\n",
      "[0.]\n",
      "[0.]\n",
      "[0.]\n",
      "[0.]\n",
      "[0.]\n",
      "[0.]\n",
      "[0.]\n",
      "[0.]\n"
     ]
    }
   ],
   "source": [
    "for x in zakharov_tester.res2_list:\n",
    "    print(x.CV)"
   ]
  },
  {
   "cell_type": "code",
   "execution_count": 6,
   "metadata": {},
   "outputs": [
    {
     "ename": "TypeError",
     "evalue": "optimize_acquisition_function() takes 1 positional argument but 2 were given",
     "output_type": "error",
     "traceback": [
      "\u001b[1;31m---------------------------------------------------------------------------\u001b[0m",
      "\u001b[1;31mTypeError\u001b[0m                                 Traceback (most recent call last)",
      "\u001b[1;32m~\\AppData\\Local\\Temp\\ipykernel_12908\\2909443851.py\u001b[0m in \u001b[0;36m<module>\u001b[1;34m\u001b[0m\n\u001b[0;32m      4\u001b[0m                 \u001b[0msave_history\u001b[0m\u001b[1;33m=\u001b[0m\u001b[1;32mTrue\u001b[0m\u001b[1;33m,\u001b[0m\u001b[1;33m\u001b[0m\u001b[1;33m\u001b[0m\u001b[0m\n\u001b[0;32m      5\u001b[0m                 \u001b[0mseed\u001b[0m \u001b[1;33m=\u001b[0m \u001b[1;36m1\u001b[0m\u001b[1;33m,\u001b[0m\u001b[1;33m\u001b[0m\u001b[1;33m\u001b[0m\u001b[0m\n\u001b[1;32m----> 6\u001b[1;33m                 verbose=False)\n\u001b[0m",
      "\u001b[1;32m~\\AppData\\Local\\Packages\\PythonSoftwareFoundation.Python.3.7_qbz5n2kfra8p0\\LocalCache\\local-packages\\Python37\\site-packages\\pymoo\\optimize.py\u001b[0m in \u001b[0;36mminimize\u001b[1;34m(problem, algorithm, termination, copy_algorithm, copy_termination, **kwargs)\u001b[0m\n\u001b[0;32m     65\u001b[0m \u001b[1;33m\u001b[0m\u001b[0m\n\u001b[0;32m     66\u001b[0m     \u001b[1;31m# actually execute the algorithm\u001b[0m\u001b[1;33m\u001b[0m\u001b[1;33m\u001b[0m\u001b[1;33m\u001b[0m\u001b[0m\n\u001b[1;32m---> 67\u001b[1;33m     \u001b[0mres\u001b[0m \u001b[1;33m=\u001b[0m \u001b[0malgorithm\u001b[0m\u001b[1;33m.\u001b[0m\u001b[0mrun\u001b[0m\u001b[1;33m(\u001b[0m\u001b[1;33m)\u001b[0m\u001b[1;33m\u001b[0m\u001b[1;33m\u001b[0m\u001b[0m\n\u001b[0m\u001b[0;32m     68\u001b[0m \u001b[1;33m\u001b[0m\u001b[0m\n\u001b[0;32m     69\u001b[0m     \u001b[1;31m# store the deep copied algorithm in the result object\u001b[0m\u001b[1;33m\u001b[0m\u001b[1;33m\u001b[0m\u001b[1;33m\u001b[0m\u001b[0m\n",
      "\u001b[1;32m~\\AppData\\Local\\Packages\\PythonSoftwareFoundation.Python.3.7_qbz5n2kfra8p0\\LocalCache\\local-packages\\Python37\\site-packages\\pymoo\\core\\algorithm.py\u001b[0m in \u001b[0;36mrun\u001b[1;34m(self)\u001b[0m\n\u001b[0;32m    139\u001b[0m     \u001b[1;32mdef\u001b[0m \u001b[0mrun\u001b[0m\u001b[1;33m(\u001b[0m\u001b[0mself\u001b[0m\u001b[1;33m)\u001b[0m\u001b[1;33m:\u001b[0m\u001b[1;33m\u001b[0m\u001b[1;33m\u001b[0m\u001b[0m\n\u001b[0;32m    140\u001b[0m         \u001b[1;32mwhile\u001b[0m \u001b[0mself\u001b[0m\u001b[1;33m.\u001b[0m\u001b[0mhas_next\u001b[0m\u001b[1;33m(\u001b[0m\u001b[1;33m)\u001b[0m\u001b[1;33m:\u001b[0m\u001b[1;33m\u001b[0m\u001b[1;33m\u001b[0m\u001b[0m\n\u001b[1;32m--> 141\u001b[1;33m             \u001b[0mself\u001b[0m\u001b[1;33m.\u001b[0m\u001b[0mnext\u001b[0m\u001b[1;33m(\u001b[0m\u001b[1;33m)\u001b[0m\u001b[1;33m\u001b[0m\u001b[1;33m\u001b[0m\u001b[0m\n\u001b[0m\u001b[0;32m    142\u001b[0m         \u001b[1;32mreturn\u001b[0m \u001b[0mself\u001b[0m\u001b[1;33m.\u001b[0m\u001b[0mresult\u001b[0m\u001b[1;33m(\u001b[0m\u001b[1;33m)\u001b[0m\u001b[1;33m\u001b[0m\u001b[1;33m\u001b[0m\u001b[0m\n\u001b[0;32m    143\u001b[0m \u001b[1;33m\u001b[0m\u001b[0m\n",
      "\u001b[1;32m~\\AppData\\Local\\Packages\\PythonSoftwareFoundation.Python.3.7_qbz5n2kfra8p0\\LocalCache\\local-packages\\Python37\\site-packages\\pymoo\\core\\algorithm.py\u001b[0m in \u001b[0;36mnext\u001b[1;34m(self)\u001b[0m\n\u001b[0;32m    155\u001b[0m \u001b[1;33m\u001b[0m\u001b[0m\n\u001b[0;32m    156\u001b[0m         \u001b[1;31m# get the infill solutions\u001b[0m\u001b[1;33m\u001b[0m\u001b[1;33m\u001b[0m\u001b[1;33m\u001b[0m\u001b[0m\n\u001b[1;32m--> 157\u001b[1;33m         \u001b[0minfills\u001b[0m \u001b[1;33m=\u001b[0m \u001b[0mself\u001b[0m\u001b[1;33m.\u001b[0m\u001b[0minfill\u001b[0m\u001b[1;33m(\u001b[0m\u001b[1;33m)\u001b[0m\u001b[1;33m\u001b[0m\u001b[1;33m\u001b[0m\u001b[0m\n\u001b[0m\u001b[0;32m    158\u001b[0m \u001b[1;33m\u001b[0m\u001b[0m\n\u001b[0;32m    159\u001b[0m         \u001b[1;31m# call the advance with them after evaluation\u001b[0m\u001b[1;33m\u001b[0m\u001b[1;33m\u001b[0m\u001b[1;33m\u001b[0m\u001b[0m\n",
      "\u001b[1;32m~\\AppData\\Local\\Packages\\PythonSoftwareFoundation.Python.3.7_qbz5n2kfra8p0\\LocalCache\\local-packages\\Python37\\site-packages\\pymoo\\core\\algorithm.py\u001b[0m in \u001b[0;36minfill\u001b[1;34m(self)\u001b[0m\n\u001b[0;32m    191\u001b[0m         \u001b[1;32melse\u001b[0m\u001b[1;33m:\u001b[0m\u001b[1;33m\u001b[0m\u001b[1;33m\u001b[0m\u001b[0m\n\u001b[0;32m    192\u001b[0m             \u001b[1;31m# request the infill solutions if the algorithm has implemented it\u001b[0m\u001b[1;33m\u001b[0m\u001b[1;33m\u001b[0m\u001b[1;33m\u001b[0m\u001b[0m\n\u001b[1;32m--> 193\u001b[1;33m             \u001b[0minfills\u001b[0m \u001b[1;33m=\u001b[0m \u001b[0mself\u001b[0m\u001b[1;33m.\u001b[0m\u001b[0m_infill\u001b[0m\u001b[1;33m(\u001b[0m\u001b[1;33m)\u001b[0m\u001b[1;33m\u001b[0m\u001b[1;33m\u001b[0m\u001b[0m\n\u001b[0m\u001b[0;32m    194\u001b[0m \u001b[1;33m\u001b[0m\u001b[0m\n\u001b[0;32m    195\u001b[0m         \u001b[1;31m# set the current generation to the offsprings\u001b[0m\u001b[1;33m\u001b[0m\u001b[1;33m\u001b[0m\u001b[1;33m\u001b[0m\u001b[0m\n",
      "\u001b[1;32mc:\\Users\\RayKO\\Documents\\Project\\Optimization-Algorithm\\Bayesian_Optimization_Algorithm.py\u001b[0m in \u001b[0;36m_infill\u001b[1;34m(self)\u001b[0m\n\u001b[0;32m     54\u001b[0m \u001b[1;33m\u001b[0m\u001b[0m\n\u001b[0;32m     55\u001b[0m     \u001b[1;32mdef\u001b[0m \u001b[0m_infill\u001b[0m\u001b[1;33m(\u001b[0m\u001b[0mself\u001b[0m\u001b[1;33m)\u001b[0m\u001b[1;33m:\u001b[0m\u001b[1;33m\u001b[0m\u001b[1;33m\u001b[0m\u001b[0m\n\u001b[1;32m---> 56\u001b[1;33m         \u001b[1;32mreturn\u001b[0m \u001b[0mself\u001b[0m\u001b[1;33m.\u001b[0m\u001b[0moptimize_acquisition_function\u001b[0m\u001b[1;33m(\u001b[0m\u001b[0mself\u001b[0m\u001b[1;33m)\u001b[0m\u001b[1;33m\u001b[0m\u001b[1;33m\u001b[0m\u001b[0m\n\u001b[0m\u001b[0;32m     57\u001b[0m \u001b[1;33m\u001b[0m\u001b[0m\n\u001b[0;32m     58\u001b[0m     \u001b[1;32mdef\u001b[0m \u001b[0m_advance\u001b[0m\u001b[1;33m(\u001b[0m\u001b[0mself\u001b[0m\u001b[1;33m,\u001b[0m \u001b[0minfills\u001b[0m\u001b[1;33m=\u001b[0m\u001b[1;32mNone\u001b[0m\u001b[1;33m,\u001b[0m \u001b[1;33m**\u001b[0m\u001b[0mkwargs\u001b[0m\u001b[1;33m)\u001b[0m\u001b[1;33m:\u001b[0m\u001b[1;33m\u001b[0m\u001b[1;33m\u001b[0m\u001b[0m\n",
      "\u001b[1;31mTypeError\u001b[0m: optimize_acquisition_function() takes 1 positional argument but 2 were given"
     ]
    }
   ],
   "source": []
  },
  {
   "cell_type": "code",
   "execution_count": null,
   "metadata": {},
   "outputs": [],
   "source": []
  },
  {
   "cell_type": "code",
   "execution_count": null,
   "metadata": {},
   "outputs": [],
   "source": []
  }
 ],
 "metadata": {
  "kernelspec": {
   "display_name": "Python 3",
   "language": "python",
   "name": "python3"
  },
  "language_info": {
   "codemirror_mode": {
    "name": "ipython",
    "version": 3
   },
   "file_extension": ".py",
   "mimetype": "text/x-python",
   "name": "python",
   "nbconvert_exporter": "python",
   "pygments_lexer": "ipython3",
   "version": "3.7.9"
  },
  "orig_nbformat": 4
 },
 "nbformat": 4,
 "nbformat_minor": 2
}
